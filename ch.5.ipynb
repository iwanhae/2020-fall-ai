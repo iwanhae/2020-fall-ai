{
 "cells": [
  {
   "cell_type": "code",
   "execution_count": 1,
   "metadata": {},
   "outputs": [],
   "source": [
    "import numpy as np\n",
    "import torch"
   ]
  },
  {
   "cell_type": "code",
   "execution_count": 2,
   "metadata": {},
   "outputs": [],
   "source": [
    "t_c = [0.5,  14.0, 15.0, 28.0, 11.0,  8.0,  3.0, -4.0,  6.0, 13.0, 21.0]\n",
    "t_u = [35.7, 55.9, 58.2, 81.9, 56.3, 48.9, 33.9, 21.8, 48.4, 60.4, 68.4]\n",
    "t_c = torch.tensor(t_c)\n",
    "t_u = torch.tensor(t_u)"
   ]
  },
  {
   "cell_type": "code",
   "execution_count": 3,
   "metadata": {},
   "outputs": [
    {
     "name": "stdout",
     "output_type": "stream",
     "text": [
      "Epoch 1, Loss 675.794312\n",
      "    Params: tensor([ 9.9441e-01,  9.9720e-01, -4.8176e-04])\n",
      "    Grad:   tensor([559.3579, 279.6790,  48.1760])\n",
      "Epoch 2, Loss 665.300537\n",
      "    Params: tensor([ 9.8889e-01,  9.9443e-01, -9.5993e-04])\n",
      "    Grad:   tensor([551.9173, 277.5110,  47.8170])\n",
      "Epoch 3, Loss 655.023682\n",
      "    Params: tensor([ 0.9834,  0.9917, -0.0014])\n",
      "    Grad:   tensor([544.6213, 275.3708,  47.4627])\n",
      "...\n",
      "Epoch 10, Loss 588.706787\n",
      "    Params: tensor([ 0.9472,  0.9730, -0.0047])\n",
      "    Grad:   tensor([497.3018, 261.1278,  45.1044])\n",
      "Epoch 11, Loss 579.975525\n",
      "    Params: tensor([ 0.9423,  0.9704, -0.0051])\n",
      "    Grad:   tensor([491.0387, 259.1927,  44.7839])\n",
      "...\n",
      "Epoch 99, Loss 193.465240\n",
      "    Params: tensor([ 0.6672,  0.7981, -0.0353])\n",
      "    Grad:   tensor([199.8918, 149.3460,  26.5750])\n",
      "Epoch 100, Loss 191.423889\n",
      "    Params: tensor([ 0.6652,  0.7966, -0.0355])\n",
      "    Grad:   tensor([198.2209, 148.5412,  26.4414])\n",
      "...\n",
      "Epoch 4000, Loss 10.344298\n",
      "    Params: tensor([ 0.3164,  0.4253, -0.1641])\n",
      "    Grad:   tensor([-0.0376, -0.0594,  1.6888])\n",
      "Epoch 5000, Loss 10.300496\n",
      "    Params: tensor([ 0.3168,  0.4259, -0.1809])\n",
      "    Grad:   tensor([-0.0384, -0.0606,  1.6840])\n"
     ]
    }
   ],
   "source": [
    "def model(t_u, w, b):\n",
    "    return w[1] * t_u ** 2 + w[0] * t_u + b\n",
    "\n",
    "def loss_fn(t_p, t_c):\n",
    "    squared_diffs = (t_p - t_c)**2\n",
    "    return squared_diffs.mean()\n",
    "\n",
    "def dloss_fn(t_p, t_c):\n",
    "    dsq_diffs = 2 * (t_p - t_c) / t_p.size(0)  # <1>\n",
    "    return dsq_diffs\n",
    "\n",
    "def dmodel_dw1(t_u, w, b):\n",
    "    return 2 * w[1] * t_u \n",
    "\n",
    "def dmodel_dw0(t_u, w, b):\n",
    "    return t_u \n",
    "\n",
    "def dmodel_db(t_u, w, b):\n",
    "    return 1.0\n",
    "\n",
    "\n",
    "def grad_fn(t_u, t_c, t_p, w, b):\n",
    "    dloss_dtp = dloss_fn(t_p, t_c)\n",
    "    dloss_dw1 = dloss_dtp * dmodel_dw1(t_u, w, b)\n",
    "    dloss_dw0 = dloss_dtp * dmodel_dw0(t_u, w, b)\n",
    "    dloss_db = dloss_dtp * dmodel_db(t_u, w, b)\n",
    "    return torch.stack([dloss_dw1.sum(), dloss_dw0.sum(), dloss_db.sum()])  # <1>\n",
    "\n",
    "def training_loop(n_epochs, learning_rate, params, t_u, t_c,\n",
    "                  print_params=True):\n",
    "    for epoch in range(1, n_epochs + 1):\n",
    "        w = [1.0, 1.0]\n",
    "        w[1], w[0], b = params\n",
    "\n",
    "        t_p = model(t_u, w, b)  # <1>\n",
    "        loss = loss_fn(t_p, t_c)\n",
    "        grad = grad_fn(t_u, t_c, t_p, w, b)  # <2>\n",
    "\n",
    "        params = params - learning_rate * grad\n",
    "\n",
    "        if epoch in {1, 2, 3, 10, 11, 99, 100, 4000, 5000}:  # <3>\n",
    "            print('Epoch %d, Loss %f' % (epoch, float(loss)))\n",
    "            if print_params:\n",
    "                print('    Params:', params)\n",
    "                print('    Grad:  ', grad)\n",
    "        if epoch in {4, 12, 101}:\n",
    "            print('...')\n",
    "\n",
    "        if not torch.isfinite(loss).all():\n",
    "            break  # <3>\n",
    "            \n",
    "    return params\n",
    "            \n",
    "    return params\n",
    "t_un = 0.1*t_u\n",
    "params = training_loop(\n",
    "    n_epochs = 5000, \n",
    "    learning_rate = 1e-5, \n",
    "    params = torch.tensor([1.0, 1.0, 0.0]), \n",
    "    t_u = t_un, \n",
    "    t_c = t_c)"
   ]
  },
  {
   "cell_type": "code",
   "execution_count": 4,
   "metadata": {},
   "outputs": [
    {
     "data": {
      "text/plain": [
       "<matplotlib.collections.PathCollection at 0x7f746bfa4850>"
      ]
     },
     "execution_count": 4,
     "metadata": {},
     "output_type": "execute_result"
    },
    {
     "data": {
      "image/png": "[encoded data removed]",
      "text/plain": [
       "<Figure size 432x288 with 1 Axes>"
      ]
     },
     "metadata": {
      "needs_background": "light"
     },
     "output_type": "display_data"
    }
   ],
   "source": [
    "from matplotlib import pyplot as plt\n",
    "\n",
    "# 파랑: 원본\n",
    "plt.scatter(t_u, t_c)\n",
    "\n",
    "w = [1.0, 1.0]\n",
    "w[1], w[0], b = params\n",
    "t_p = model(t_u*0.1, w, b)\n",
    "\n",
    "# 주황: 추론값\n",
    "plt.scatter(t_u, t_p)\n"
   ]
  }
 ],
 "metadata": {
  "kernelspec": {
   "display_name": "Python 3",
   "language": "python",
   "name": "python3"
  },
  "language_info": {
   "codemirror_mode": {
    "name": "ipython",
    "version": 3
   },
   "file_extension": ".py",
   "mimetype": "text/x-python",
   "name": "python",
   "nbconvert_exporter": "python",
   "pygments_lexer": "ipython3",
   "version": "3.8.3"
  }
 },
 "nbformat": 4,
 "nbformat_minor": 4
}
